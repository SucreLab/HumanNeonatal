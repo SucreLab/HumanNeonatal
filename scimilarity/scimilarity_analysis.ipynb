{
 "cells": [
  {
   "cell_type": "code",
   "execution_count": null,
   "metadata": {},
   "outputs": [],
   "source": [
    "import scanpy as sc\n",
    "import pandas as pd\n",
    "import numpy as np\n",
    "import seaborn as sns\n",
    "import os\n",
    "\n",
    "import warnings\n",
    "warnings.filterwarnings('ignore')\n",
    "import anndata as ad\n",
    "sc.settings.verbosity = 4"
   ]
  },
  {
   "cell_type": "code",
   "execution_count": null,
   "metadata": {},
   "outputs": [],
   "source": [
    "os.getcwd()"
   ]
  },
  {
   "cell_type": "code",
   "execution_count": null,
   "metadata": {},
   "outputs": [],
   "source": [
    "hlca = sc.read_h5ad('local.h5ad')"
   ]
  },
  {
   "cell_type": "code",
   "execution_count": null,
   "metadata": {},
   "outputs": [],
   "source": [
    "hlca"
   ]
  },
  {
   "cell_type": "code",
   "execution_count": null,
   "metadata": {},
   "outputs": [],
   "source": [
    "hlca_scimilarity_sub = hlca[hlca.obs.dataset.isin(['Regev_2021_Nuclei',\n",
    "                                                   'Regev_2021_Fresh',\n",
    "                                                   'Regev_2021_Cryo',\n",
    "                                                   'Lafyatis_2019',\n",
    "                                                   'Lafyatis_Rojas_2019_10Xv1',\n",
    "                                                   'Lafyatis_Rojas_2019_10Xv2',\n",
    "                                                   'Misharin_Budinger_2018',\n",
    "                                                   'Kaminski_2020',\n",
    "                                                   'Sheppard_2020'])]"
   ]
  },
  {
   "cell_type": "code",
   "execution_count": null,
   "metadata": {},
   "outputs": [],
   "source": [
    "hlca_scimilarity_sub"
   ]
  },
  {
   "cell_type": "code",
   "execution_count": null,
   "metadata": {},
   "outputs": [],
   "source": [
    "del(hlca)"
   ]
  },
  {
   "cell_type": "code",
   "execution_count": null,
   "metadata": {},
   "outputs": [],
   "source": [
    "sc.pl.umap(hlca_scimilarity_sub, color='dataset')"
   ]
  },
  {
   "cell_type": "code",
   "execution_count": null,
   "metadata": {},
   "outputs": [],
   "source": [
    "sc.pl.umap(hlca_scimilarity_sub, color='ann_level_1')"
   ]
  },
  {
   "cell_type": "code",
   "execution_count": null,
   "metadata": {},
   "outputs": [],
   "source": [
    "hlca_scimilarity_sub"
   ]
  },
  {
   "cell_type": "code",
   "execution_count": null,
   "metadata": {},
   "outputs": [],
   "source": [
    "sc.pl.umap(hlca_scimilarity_sub, color='ann_level_1')"
   ]
  },
  {
   "cell_type": "code",
   "execution_count": null,
   "metadata": {},
   "outputs": [],
   "source": [
    "sc.pl.umap(hlca_scimilarity_sub, color='dataset')"
   ]
  },
  {
   "cell_type": "code",
   "execution_count": null,
   "metadata": {},
   "outputs": [],
   "source": [
    "hlca_endo = hlca_scimilarity_sub[hlca_scimilarity_sub.obs.ann_level_1.isin(['Endothelial'])]"
   ]
  },
  {
   "cell_type": "code",
   "execution_count": null,
   "metadata": {},
   "outputs": [],
   "source": [
    "hlca_endo"
   ]
  },
  {
   "cell_type": "code",
   "execution_count": null,
   "metadata": {},
   "outputs": [],
   "source": [
    "hlca_endo.obs[\"sample\"].value_counts()[hlca_endo.obs[\"sample\"].value_counts() > 104]"
   ]
  },
  {
   "cell_type": "code",
   "execution_count": null,
   "metadata": {},
   "outputs": [],
   "source": [
    "sc.pl.umap(hlca_endo, color='ann_level_1')"
   ]
  },
  {
   "cell_type": "code",
   "execution_count": null,
   "metadata": {},
   "outputs": [],
   "source": [
    "sc.pp.highly_variable_genes(hlca_endo, min_mean=0.05, max_mean=3, min_disp=0.5)\n",
    "sc.pl.highly_variable_genes(hlca_endo)"
   ]
  },
  {
   "cell_type": "code",
   "execution_count": null,
   "metadata": {},
   "outputs": [],
   "source": [
    "sc.tl.pca(hlca_endo, svd_solver='arpack')\n",
    "hlca_endo\n",
    "\n",
    "sc.pl.pca_overview(hlca_endo)"
   ]
  },
  {
   "cell_type": "code",
   "execution_count": null,
   "metadata": {},
   "outputs": [],
   "source": [
    "sc.pp.neighbors(hlca_endo, n_neighbors=30, n_pcs=10)\n",
    "\n",
    "sc.tl.umap(hlca_endo)"
   ]
  },
  {
   "cell_type": "code",
   "execution_count": null,
   "metadata": {},
   "outputs": [],
   "source": [
    "hlca_endo"
   ]
  },
  {
   "cell_type": "code",
   "execution_count": null,
   "metadata": {},
   "outputs": [],
   "source": [
    "hlca_endo.var"
   ]
  },
  {
   "cell_type": "code",
   "execution_count": null,
   "metadata": {},
   "outputs": [],
   "source": [
    "hlca_endo.var.index = hlca_endo.var['feature_name']"
   ]
  },
  {
   "cell_type": "code",
   "execution_count": null,
   "metadata": {},
   "outputs": [],
   "source": [
    "hlca_endo.raw.var.index = hlca_endo.raw.var['feature_name']"
   ]
  },
  {
   "cell_type": "code",
   "execution_count": null,
   "metadata": {},
   "outputs": [],
   "source": [
    "hlca_endo.var_names = hlca_endo.var.feature_name"
   ]
  },
  {
   "cell_type": "code",
   "execution_count": null,
   "metadata": {},
   "outputs": [],
   "source": [
    "hlca_endo._raw._var_names = hlca_endo._raw._var.feature_name"
   ]
  },
  {
   "cell_type": "code",
   "execution_count": null,
   "metadata": {},
   "outputs": [],
   "source": [
    "hlca_endo"
   ]
  },
  {
   "cell_type": "code",
   "execution_count": null,
   "metadata": {},
   "outputs": [],
   "source": [
    "sc.pl.umap(hlca_endo, color='CCN2', use_raw=False)"
   ]
  },
  {
   "cell_type": "code",
   "execution_count": null,
   "metadata": {},
   "outputs": [],
   "source": [
    "sc.pl.violin(hlca_endo, 'ANKRD1', 'dataset', use_raw=False, rotation = 90)"
   ]
  },
  {
   "cell_type": "code",
   "execution_count": null,
   "metadata": {},
   "outputs": [],
   "source": [
    "def preprocess (data) :\n",
    "    sc.pp.highly_variable_genes(data, min_mean=0.05, max_mean=3, min_disp=0.5)\n",
    "    sc.pl.highly_variable_genes(data)\n",
    "    sc.tl.pca(data, svd_solver='arpack')\n",
    "    sc.pl.pca_overview(data)\n",
    "    sc.pp.neighbors(data, n_neighbors=30, n_pcs=10)\n",
    "    sc.tl.umap(data)\n",
    "    return data"
   ]
  },
  {
   "cell_type": "code",
   "execution_count": null,
   "metadata": {},
   "outputs": [],
   "source": [
    "lafyatis_2019 = preprocess(hlca_endo[hlca_endo.obs.dataset.isin(['Lafyatis_2019', 'Lafyatis_Rojas_2019_10Xv1', 'Lafyatis_Rojas_2019_10Xv2'])])\n",
    "misharin_budinger_2018 = preprocess(hlca_endo[hlca_endo.obs.dataset.isin(['Misharin_Budinger_2018'])])\n",
    "regev_2021 = preprocess(hlca_endo[hlca_endo.obs.dataset.isin(['Regev_2021_Nuclei', 'Regev_2021_Fresh', 'Regev_2021_Cryo'])])\n",
    "sheppard_2020 = preprocess(hlca_endo[hlca_endo.obs.dataset.isin(['Sheppard_2020'])])\n",
    "kaminski_2020 = preprocess(hlca_endo[hlca_endo.obs.dataset.isin(['Kaminski_2020'])])"
   ]
  },
  {
   "cell_type": "code",
   "execution_count": null,
   "metadata": {},
   "outputs": [],
   "source": [
    "sc.pl.umap(regev_2021, color='ANKRD1', use_raw=False)"
   ]
  },
  {
   "cell_type": "code",
   "execution_count": null,
   "metadata": {},
   "outputs": [],
   "source": [
    "nli = sc.read_h5ad('../data/20240307_endo_devo_data_sct_labeledv3.h5ad')"
   ]
  },
  {
   "cell_type": "code",
   "execution_count": null,
   "metadata": {},
   "outputs": [],
   "source": [
    "nli.obs"
   ]
  },
  {
   "cell_type": "code",
   "execution_count": null,
   "metadata": {},
   "outputs": [],
   "source": [
    "sc.pl.umap(nli, color='ANKRD1', use_raw=False)"
   ]
  },
  {
   "cell_type": "code",
   "execution_count": null,
   "metadata": {},
   "outputs": [],
   "source": [
    "sc.tl.rank_genes_groups(nli, groupby='annotation', use_raw=False, method='wilcoxon')"
   ]
  },
  {
   "cell_type": "code",
   "execution_count": null,
   "metadata": {},
   "outputs": [],
   "source": [
    "wilcoxon_list = list(sc.get.rank_genes_groups_df(nli, group=\"abCap\")['names'][0:50])"
   ]
  },
  {
   "cell_type": "code",
   "execution_count": null,
   "metadata": {},
   "outputs": [],
   "source": [
    "wilcoxon_list"
   ]
  },
  {
   "cell_type": "code",
   "execution_count": null,
   "metadata": {},
   "outputs": [],
   "source": [
    "expression_list = ['ANKRD1',\n",
    "'SERPINE1',\n",
    "'CCN2',\n",
    "'S100A6',\n",
    "'EDN1',\n",
    "'KITLG',\n",
    "'S100A10',\n",
    "'GDF15',\n",
    "'TNFRSF12A',\n",
    "'TM4SF1',\n",
    "'PODXL',\n",
    "'CALCRL',\n",
    "'CD59',\n",
    "'CCND1',\n",
    "'GNG11',\n",
    "'SGK1',\n",
    "'EMCN',\n",
    "'MYL12A',\n",
    "'SH3BGRL3',\n",
    "'S100A11',\n",
    "'POLR2L',\n",
    "'RGCC',\n",
    "'CRIM1',\n",
    "'ANXA5',\n",
    "'IFITM3',\n",
    "'H1F0',\n",
    "'CD151',\n",
    "'GBE1',\n",
    "'GAPDH',\n",
    "'PDGFB',\n",
    "'ACTG1',\n",
    "'COL4A2',\n",
    "'APLN',\n",
    "'COL4A1',\n",
    "'RBFOX2',\n",
    "'EGFL7',\n",
    "'RPS27L',\n",
    "'MYL12B',\n",
    "'ACTB',\n",
    "'FKBP1A',\n",
    "'SOX18',\n",
    "'SEC61G',\n",
    "'TXNRD1',\n",
    "'H1FX',\n",
    "'FP236383.3',\n",
    "'PLS3',\n",
    "'PFN1',\n",
    "'CD9',\n",
    "'IL32',\n",
    "'ENG']"
   ]
  },
  {
   "cell_type": "code",
   "execution_count": null,
   "metadata": {},
   "outputs": [],
   "source": [
    "pct_list = ['ANKRD1',\n",
    "'SERPINE1',\n",
    "'EDN1',\n",
    "'CALCRL',\n",
    "'FP236383.3',\n",
    "'TM4SF1',\n",
    "'CCN2',\n",
    "'KITLG',\n",
    "'GNG11',\n",
    "'PODXL',\n",
    "'IFI27',\n",
    "'TNFRSF12A',\n",
    "'PDGFB',\n",
    "'EGFL7',\n",
    "'RAMP2',\n",
    "'FP671120.4',\n",
    "'EMCN',\n",
    "'CD59',\n",
    "'CCND1',\n",
    "'COL4A1',\n",
    "'COL4A2',\n",
    "'SGK1',\n",
    "'PECAM1',\n",
    "'CCN1',\n",
    "'RBFOX2',\n",
    "'TFPI',\n",
    "'ADGRL4',\n",
    "'CD151',\n",
    "'ADGRF5',\n",
    "'CRIM1',\n",
    "'SPARC',\n",
    "'IL32',\n",
    "'FKBP1A',\n",
    "'PLS3',\n",
    "'CDH5',\n",
    "'NEDD4L',\n",
    "'SLC9A3R2',\n",
    "'GBE1',\n",
    "'SOX18',\n",
    "'IFITM3',\n",
    "'ROBO4',\n",
    "'ECSCR',\n",
    "'ENG',\n",
    "'GDF15',\n",
    "'ID3',\n",
    "'CALD1',\n",
    "'CD9',\n",
    "'PLXNA2',\n",
    "'APP',\n",
    "'ARHGAP29']"
   ]
  },
  {
   "cell_type": "code",
   "execution_count": null,
   "metadata": {},
   "outputs": [],
   "source": [
    "testing1 = list(set(wilcoxon_list) & set(expression_list) & set(pct_list))"
   ]
  },
  {
   "cell_type": "code",
   "execution_count": null,
   "metadata": {},
   "outputs": [],
   "source": [
    "data_list = [lafyatis_2019, misharin_2021, misharin_budinger_2018, regev_2021, sheppard_2020]"
   ]
  },
  {
   "cell_type": "code",
   "execution_count": null,
   "metadata": {},
   "outputs": [],
   "source": [
    "data_list[0]"
   ]
  },
  {
   "cell_type": "code",
   "execution_count": null,
   "metadata": {},
   "outputs": [],
   "source": [
    "list(lafyatis_2019.obs.dataset)[0]"
   ]
  },
  {
   "cell_type": "code",
   "execution_count": null,
   "metadata": {},
   "outputs": [],
   "source": [
    "similarity_scoring = [gene for gene in testing1 if gene != 'FP236383.3'] #is long noncoding rna"
   ]
  },
  {
   "cell_type": "code",
   "execution_count": null,
   "metadata": {},
   "outputs": [],
   "source": [
    "similarity_scoring"
   ]
  },
  {
   "cell_type": "code",
   "execution_count": null,
   "metadata": {},
   "outputs": [],
   "source": [
    "sc.tl.score_genes(lafyatis_2019, similarity_scoring, use_raw=False, score_name='similarity_scoring')\n",
    "sc.tl.score_genes(misharin_budinger_2018, similarity_scoring, use_raw=False, score_name='similarity_scoring')\n",
    "sc.tl.score_genes(regev_2021, similarity_scoring, use_raw=False, score_name='similarity_scoring')\n",
    "sc.tl.score_genes(sheppard_2020, similarity_scoring, use_raw=False, score_name='similarity_scoring')\n",
    "sc.tl.score_genes(kaminski_2020, similarity_scoring, use_raw=False, score_name='similarity_scoring')\n",
    "sc.tl.score_genes(nli, similarity_scoring, use_raw=False, score_name='similarity_scoring')"
   ]
  },
  {
   "cell_type": "code",
   "execution_count": null,
   "metadata": {},
   "outputs": [],
   "source": [
    "sheppard_2020.obs.cell_type.value_counts()"
   ]
  },
  {
   "cell_type": "code",
   "execution_count": null,
   "metadata": {},
   "outputs": [],
   "source": [
    "sheppard_2020.obs.transf_ann_level_4_label.value_counts()"
   ]
  },
  {
   "cell_type": "code",
   "execution_count": null,
   "metadata": {},
   "outputs": [],
   "source": [
    "sheppard_2020.obs['annotation'] = sheppard_2020.obs['cell_type']\n",
    "sheppard_2020.obs['annotation'] = sheppard_2020.obs['annotation'].cat.add_categories('aCap')\n",
    "sheppard_2020.obs['annotation'] = sheppard_2020.obs['annotation'].cat.add_categories('gCap')\n",
    "sheppard_2020.obs['annotation'] = sheppard_2020.obs['annotation'].cat.add_categories('Arterial')\n",
    "sheppard_2020.obs['annotation'] = sheppard_2020.obs['annotation'].cat.add_categories('Pulmonary Venous')\n",
    "sheppard_2020.obs['annotation'] = sheppard_2020.obs['annotation'].cat.add_categories('Systemic Venous')\n",
    "sheppard_2020.obs['annotation'] = sheppard_2020.obs['annotation'].cat.add_categories('Lymphatic')\n",
    "sheppard_2020.obs.loc[sheppard_2020.obs.index.isin(list(sheppard_2020[(sheppard_2020.obs.transf_ann_level_4_label.isin(['EC aerocyte capillary'])),].obs.index)), 'annotation'] = 'aCap'\n",
    "sheppard_2020.obs.loc[sheppard_2020.obs.index.isin(list(sheppard_2020[(sheppard_2020.obs.transf_ann_level_4_label.isin(['EC general capillary'])),].obs.index)), 'annotation'] = 'gCap'\n",
    "sheppard_2020.obs.loc[sheppard_2020.obs.index.isin(list(sheppard_2020[(sheppard_2020.obs.transf_ann_level_4_label.isin(['3_EC arterial'])),].obs.index)), 'annotation'] = 'Arterial'\n",
    "sheppard_2020.obs.loc[sheppard_2020.obs.index.isin(list(sheppard_2020[(sheppard_2020.obs.transf_ann_level_4_label.isin(['EC venous pulmonary'])),].obs.index)), 'annotation'] = 'Pulmonary Venous'\n",
    "sheppard_2020.obs.loc[sheppard_2020.obs.index.isin(list(sheppard_2020[(sheppard_2020.obs.transf_ann_level_4_label.isin(['EC venous systemic'])),].obs.index)), 'annotation'] = 'Systemic Venous'\n",
    "sheppard_2020.obs.loc[sheppard_2020.obs.index.isin(list(sheppard_2020[(sheppard_2020.obs.transf_ann_level_4_label.isin(['3_Lymphatic EC differentiating', '3_Lymphatic EC mature'])),].obs.index)), 'annotation'] = 'Lymphatic'\n",
    "sheppard_2020.obs['annotation'] = sheppard_2020.obs['annotation'].cat.remove_unused_categories()"
   ]
  },
  {
   "cell_type": "code",
   "execution_count": null,
   "metadata": {},
   "outputs": [],
   "source": [
    "sc.pl.umap(sheppard_2020, color='annotation')"
   ]
  },
  {
   "cell_type": "code",
   "execution_count": null,
   "metadata": {},
   "outputs": [],
   "source": [
    "backup = lafyatis_2019.copy()"
   ]
  },
  {
   "cell_type": "code",
   "execution_count": null,
   "metadata": {},
   "outputs": [],
   "source": [
    "lafyatis_2019.obs['annotation'] = lafyatis_2019.obs['cell_type']\n",
    "lafyatis_2019.obs['annotation'] = lafyatis_2019.obs['annotation'].cat.add_categories('aCap')\n",
    "lafyatis_2019.obs['annotation'] = lafyatis_2019.obs['annotation'].cat.add_categories('gCap')\n",
    "lafyatis_2019.obs['annotation'] = lafyatis_2019.obs['annotation'].cat.add_categories('Arterial')\n",
    "lafyatis_2019.obs['annotation'] = lafyatis_2019.obs['annotation'].cat.add_categories('Pulmonary Venous')\n",
    "lafyatis_2019.obs['annotation'] = lafyatis_2019.obs['annotation'].cat.add_categories('Systemic Venous')\n",
    "lafyatis_2019.obs['annotation'] = lafyatis_2019.obs['annotation'].cat.add_categories('Lymphatic')\n",
    "lafyatis_2019.obs.loc[lafyatis_2019.obs.index.isin(list(lafyatis_2019[(lafyatis_2019.obs.transf_ann_level_4_label.isin(['EC aerocyte capillary'])),].obs.index)), 'annotation'] = 'aCap'\n",
    "lafyatis_2019.obs.loc[lafyatis_2019.obs.index.isin(list(lafyatis_2019[(lafyatis_2019.obs.transf_ann_level_4_label.isin(['EC general capillary'])),].obs.index)), 'annotation'] = 'gCap'\n",
    "lafyatis_2019.obs.loc[lafyatis_2019.obs.index.isin(list(lafyatis_2019[(lafyatis_2019.obs.transf_ann_level_4_label.isin(['3_EC arterial'])),].obs.index)), 'annotation'] = 'Arterial'\n",
    "lafyatis_2019.obs.loc[lafyatis_2019.obs.index.isin(list(lafyatis_2019[(lafyatis_2019.obs.transf_ann_level_4_label.isin(['EC venous pulmonary'])),].obs.index)), 'annotation'] = 'Pulmonary Venous'\n",
    "lafyatis_2019.obs.loc[lafyatis_2019.obs.index.isin(list(lafyatis_2019[(lafyatis_2019.obs.transf_ann_level_4_label.isin(['EC venous systemic'])),].obs.index)), 'annotation'] = 'Systemic Venous'\n",
    "lafyatis_2019.obs.loc[lafyatis_2019.obs.index.isin(list(lafyatis_2019[(lafyatis_2019.obs.transf_ann_level_4_label.isin(['3_Lymphatic EC differentiating', '3_Lymphatic EC mature'])),].obs.index)), 'annotation'] = 'Lymphatic'\n",
    "lafyatis_2019.obs.loc[lafyatis_2019.obs.index.isin(list(lafyatis_2019[(lafyatis_2019.obs.ann_finest_level.isin(['EC aerocyte capillary'])),].obs.index)), 'annotation'] = 'aCap'\n",
    "lafyatis_2019.obs.loc[lafyatis_2019.obs.index.isin(list(lafyatis_2019[(lafyatis_2019.obs.ann_finest_level.isin(['EC general capillary'])),].obs.index)), 'annotation'] = 'gCap'\n",
    "lafyatis_2019.obs.loc[lafyatis_2019.obs.index.isin(list(lafyatis_2019[(lafyatis_2019.obs.ann_finest_level.isin(['EC arterial'])),].obs.index)), 'annotation'] = 'Arterial'\n",
    "lafyatis_2019.obs.loc[lafyatis_2019.obs.index.isin(list(lafyatis_2019[(lafyatis_2019.obs.ann_finest_level.isin(['EC venous pulmonary'])),].obs.index)), 'annotation'] = 'Pulmonary Venous'\n",
    "lafyatis_2019.obs.loc[lafyatis_2019.obs.index.isin(list(lafyatis_2019[(lafyatis_2019.obs.ann_finest_level.isin(['EC venous systemic'])),].obs.index)), 'annotation'] = 'Systemic Venous'\n",
    "lafyatis_2019.obs.loc[lafyatis_2019.obs.index.isin(list(lafyatis_2019[(lafyatis_2019.obs.ann_finest_level.isin(['Lymphatic EC differentiating', 'Lymphatic EC mature'])),].obs.index)), 'annotation'] = 'Lymphatic'\n",
    "lafyatis_2019.obs['annotation'] = lafyatis_2019.obs['annotation'].cat.remove_unused_categories()"
   ]
  },
  {
   "cell_type": "code",
   "execution_count": null,
   "metadata": {},
   "outputs": [],
   "source": [
    "sc.pl.umap(lafyatis_2019, color='annotation')"
   ]
  },
  {
   "cell_type": "code",
   "execution_count": null,
   "metadata": {},
   "outputs": [],
   "source": [
    "misharin_2021.obs['annotation'] = misharin_2021.obs['cell_type']\n",
    "misharin_2021.obs['annotation'] = misharin_2021.obs['annotation'].cat.add_categories('aCap')\n",
    "misharin_2021.obs['annotation'] = misharin_2021.obs['annotation'].cat.add_categories('gCap')\n",
    "misharin_2021.obs['annotation'] = misharin_2021.obs['annotation'].cat.add_categories('Arterial')\n",
    "misharin_2021.obs['annotation'] = misharin_2021.obs['annotation'].cat.add_categories('Pulmonary Venous')\n",
    "misharin_2021.obs['annotation'] = misharin_2021.obs['annotation'].cat.add_categories('Systemic Venous')\n",
    "misharin_2021.obs['annotation'] = misharin_2021.obs['annotation'].cat.add_categories('Lymphatic')\n",
    "misharin_2021.obs.loc[misharin_2021.obs.index.isin(list(misharin_2021[(misharin_2021.obs.ann_finest_level.isin(['EC aerocyte capillary'])),].obs.index)), 'annotation'] = 'aCap'\n",
    "misharin_2021.obs.loc[misharin_2021.obs.index.isin(list(misharin_2021[(misharin_2021.obs.ann_finest_level.isin(['EC general capillary'])),].obs.index)), 'annotation'] = 'gCap'\n",
    "misharin_2021.obs.loc[misharin_2021.obs.index.isin(list(misharin_2021[(misharin_2021.obs.ann_finest_level.isin(['EC arterial'])),].obs.index)), 'annotation'] = 'Arterial'\n",
    "misharin_2021.obs.loc[misharin_2021.obs.index.isin(list(misharin_2021[(misharin_2021.obs.ann_finest_level.isin(['EC venous pulmonary'])),].obs.index)), 'annotation'] = 'Pulmonary Venous'\n",
    "misharin_2021.obs.loc[misharin_2021.obs.index.isin(list(misharin_2021[(misharin_2021.obs.ann_finest_level.isin(['EC venous systemic'])),].obs.index)), 'annotation'] = 'Systemic Venous'\n",
    "misharin_2021.obs.loc[misharin_2021.obs.index.isin(list(misharin_2021[(misharin_2021.obs.ann_finest_level.isin(['Lymphatic EC differentiating', 'Lymphatic EC mature', 'Lymphatic EC proliferating'])),].obs.index)), 'annotation'] = 'Lymphatic'\n",
    "misharin_2021.obs['annotation'] = misharin_2021.obs['annotation'].cat.remove_unused_categories()"
   ]
  },
  {
   "cell_type": "code",
   "execution_count": null,
   "metadata": {},
   "outputs": [],
   "source": [
    "sc.pl.umap(misharin_2021, color='annotation')"
   ]
  },
  {
   "cell_type": "code",
   "execution_count": null,
   "metadata": {},
   "outputs": [],
   "source": [
    "misharin_budinger_2018.obs['annotation'] = misharin_budinger_2018.obs['cell_type']\n",
    "misharin_budinger_2018.obs['annotation'] = misharin_budinger_2018.obs['annotation'].cat.add_categories('aCap')\n",
    "misharin_budinger_2018.obs['annotation'] = misharin_budinger_2018.obs['annotation'].cat.add_categories('gCap')\n",
    "misharin_budinger_2018.obs['annotation'] = misharin_budinger_2018.obs['annotation'].cat.add_categories('Arterial')\n",
    "misharin_budinger_2018.obs['annotation'] = misharin_budinger_2018.obs['annotation'].cat.add_categories('Pulmonary Venous')\n",
    "misharin_budinger_2018.obs['annotation'] = misharin_budinger_2018.obs['annotation'].cat.add_categories('Systemic Venous')\n",
    "misharin_budinger_2018.obs['annotation'] = misharin_budinger_2018.obs['annotation'].cat.add_categories('Lymphatic')\n",
    "misharin_budinger_2018.obs.loc[misharin_budinger_2018.obs.index.isin(list(misharin_budinger_2018[(misharin_budinger_2018.obs.transf_ann_level_4_label.isin(['EC aerocyte capillary'])),].obs.index)), 'annotation'] = 'aCap'\n",
    "misharin_budinger_2018.obs.loc[misharin_budinger_2018.obs.index.isin(list(misharin_budinger_2018[(misharin_budinger_2018.obs.transf_ann_level_4_label.isin(['EC general capillary'])),].obs.index)), 'annotation'] = 'gCap'\n",
    "misharin_budinger_2018.obs.loc[misharin_budinger_2018.obs.index.isin(list(misharin_budinger_2018[(misharin_budinger_2018.obs.transf_ann_level_4_label.isin(['3_EC arterial'])),].obs.index)), 'annotation'] = 'Arterial'\n",
    "misharin_budinger_2018.obs.loc[misharin_budinger_2018.obs.index.isin(list(misharin_budinger_2018[(misharin_budinger_2018.obs.transf_ann_level_4_label.isin(['EC venous pulmonary'])),].obs.index)), 'annotation'] = 'Pulmonary Venous'\n",
    "misharin_budinger_2018.obs.loc[misharin_budinger_2018.obs.index.isin(list(misharin_budinger_2018[(misharin_budinger_2018.obs.transf_ann_level_4_label.isin(['EC venous systemic'])),].obs.index)), 'annotation'] = 'Systemic Venous'\n",
    "misharin_budinger_2018.obs.loc[misharin_budinger_2018.obs.index.isin(list(misharin_budinger_2018[(misharin_budinger_2018.obs.transf_ann_level_4_label.isin(['3_Lymphatic EC differentiating', '3_Lymphatic EC mature'])),].obs.index)), 'annotation'] = 'Lymphatic'\n",
    "misharin_budinger_2018.obs.loc[misharin_budinger_2018.obs.index.isin(list(misharin_budinger_2018[(misharin_budinger_2018.obs.ann_finest_level.isin(['EC aerocyte capillary'])),].obs.index)), 'annotation'] = 'aCap'\n",
    "misharin_budinger_2018.obs.loc[misharin_budinger_2018.obs.index.isin(list(misharin_budinger_2018[(misharin_budinger_2018.obs.ann_finest_level.isin(['EC general capillary'])),].obs.index)), 'annotation'] = 'gCap'\n",
    "misharin_budinger_2018.obs.loc[misharin_budinger_2018.obs.index.isin(list(misharin_budinger_2018[(misharin_budinger_2018.obs.ann_finest_level.isin(['EC arterial'])),].obs.index)), 'annotation'] = 'Arterial'\n",
    "misharin_budinger_2018.obs.loc[misharin_budinger_2018.obs.index.isin(list(misharin_budinger_2018[(misharin_budinger_2018.obs.ann_finest_level.isin(['EC venous pulmonary'])),].obs.index)), 'annotation'] = 'Pulmonary Venous'\n",
    "misharin_budinger_2018.obs.loc[misharin_budinger_2018.obs.index.isin(list(misharin_budinger_2018[(misharin_budinger_2018.obs.ann_finest_level.isin(['EC venous systemic'])),].obs.index)), 'annotation'] = 'Systemic Venous'\n",
    "misharin_budinger_2018.obs.loc[misharin_budinger_2018.obs.index.isin(list(misharin_budinger_2018[(misharin_budinger_2018.obs.ann_finest_level.isin(['Lymphatic EC differentiating', 'Lymphatic EC mature', 'Lymphatic EC proliferating'])),].obs.index)), 'annotation'] = 'Lymphatic'\n",
    "misharin_budinger_2018.obs['annotation'] = misharin_budinger_2018.obs['annotation'].cat.remove_unused_categories()"
   ]
  },
  {
   "cell_type": "code",
   "execution_count": null,
   "metadata": {},
   "outputs": [],
   "source": [
    "sc.pl.umap(misharin_budinger_2018, color='annotation')"
   ]
  },
  {
   "cell_type": "code",
   "execution_count": null,
   "metadata": {},
   "outputs": [],
   "source": [
    "regev_2021.obs['annotation'] = regev_2021.obs['cell_type']\n",
    "regev_2021.obs['annotation'] = regev_2021.obs['annotation'].cat.add_categories('aCap')\n",
    "regev_2021.obs['annotation'] = regev_2021.obs['annotation'].cat.add_categories('gCap')\n",
    "regev_2021.obs['annotation'] = regev_2021.obs['annotation'].cat.add_categories('Arterial')\n",
    "regev_2021.obs['annotation'] = regev_2021.obs['annotation'].cat.add_categories('Pulmonary Venous')\n",
    "regev_2021.obs['annotation'] = regev_2021.obs['annotation'].cat.add_categories('Systemic Venous')\n",
    "regev_2021.obs['annotation'] = regev_2021.obs['annotation'].cat.add_categories('Lymphatic')\n",
    "regev_2021.obs.loc[regev_2021.obs.index.isin(list(regev_2021[(regev_2021.obs.transf_ann_level_4_label.isin(['EC aerocyte capillary'])),].obs.index)), 'annotation'] = 'aCap'\n",
    "regev_2021.obs.loc[regev_2021.obs.index.isin(list(regev_2021[(regev_2021.obs.transf_ann_level_4_label.isin(['EC general capillary'])),].obs.index)), 'annotation'] = 'gCap'\n",
    "regev_2021.obs.loc[regev_2021.obs.index.isin(list(regev_2021[(regev_2021.obs.transf_ann_level_4_label.isin(['3_EC arterial'])),].obs.index)), 'annotation'] = 'Arterial'\n",
    "regev_2021.obs.loc[regev_2021.obs.index.isin(list(regev_2021[(regev_2021.obs.transf_ann_level_4_label.isin(['EC venous pulmonary'])),].obs.index)), 'annotation'] = 'Pulmonary Venous'\n",
    "regev_2021.obs.loc[regev_2021.obs.index.isin(list(regev_2021[(regev_2021.obs.transf_ann_level_4_label.isin(['EC venous systemic'])),].obs.index)), 'annotation'] = 'Systemic Venous'\n",
    "regev_2021.obs.loc[regev_2021.obs.index.isin(list(regev_2021[(regev_2021.obs.transf_ann_level_4_label.isin(['3_Lymphatic EC differentiating', '3_Lymphatic EC mature'])),].obs.index)), 'annotation'] = 'Lymphatic'\n",
    "regev_2021.obs['annotation'] = regev_2021.obs['annotation'].cat.remove_unused_categories()"
   ]
  },
  {
   "cell_type": "code",
   "execution_count": null,
   "metadata": {},
   "outputs": [],
   "source": [
    "sc.pl.umap(regev_2021, color='annotation')"
   ]
  },
  {
   "cell_type": "code",
   "execution_count": null,
   "metadata": {},
   "outputs": [],
   "source": [
    "kaminski_2020.obs['annotation'] = kaminski_2020.obs['cell_type']\n",
    "kaminski_2020.obs['annotation'] = kaminski_2020.obs['annotation'].cat.add_categories('aCap')\n",
    "kaminski_2020.obs['annotation'] = kaminski_2020.obs['annotation'].cat.add_categories('gCap')\n",
    "kaminski_2020.obs['annotation'] = kaminski_2020.obs['annotation'].cat.add_categories('Arterial')\n",
    "kaminski_2020.obs['annotation'] = kaminski_2020.obs['annotation'].cat.add_categories('Pulmonary Venous')\n",
    "kaminski_2020.obs['annotation'] = kaminski_2020.obs['annotation'].cat.add_categories('Systemic Venous')\n",
    "kaminski_2020.obs['annotation'] = kaminski_2020.obs['annotation'].cat.add_categories('Lymphatic')\n",
    "kaminski_2020.obs.loc[kaminski_2020.obs.index.isin(list(kaminski_2020[(kaminski_2020.obs.transf_ann_level_4_label.isin(['EC aerocyte capillary'])),].obs.index)), 'annotation'] = 'aCap'\n",
    "kaminski_2020.obs.loc[kaminski_2020.obs.index.isin(list(kaminski_2020[(kaminski_2020.obs.transf_ann_level_4_label.isin(['EC general capillary'])),].obs.index)), 'annotation'] = 'gCap'\n",
    "kaminski_2020.obs.loc[kaminski_2020.obs.index.isin(list(kaminski_2020[(kaminski_2020.obs.transf_ann_level_4_label.isin(['3_EC arterial'])),].obs.index)), 'annotation'] = 'Arterial'\n",
    "kaminski_2020.obs.loc[kaminski_2020.obs.index.isin(list(kaminski_2020[(kaminski_2020.obs.transf_ann_level_4_label.isin(['EC venous pulmonary'])),].obs.index)), 'annotation'] = 'Pulmonary Venous'\n",
    "kaminski_2020.obs.loc[kaminski_2020.obs.index.isin(list(kaminski_2020[(kaminski_2020.obs.transf_ann_level_4_label.isin(['EC venous systemic'])),].obs.index)), 'annotation'] = 'Systemic Venous'\n",
    "kaminski_2020.obs.loc[kaminski_2020.obs.index.isin(list(kaminski_2020[(kaminski_2020.obs.transf_ann_level_4_label.isin(['3_Lymphatic EC differentiating', '3_Lymphatic EC mature', '3_Lymphatic EC proliferating'])),].obs.index)), 'annotation'] = 'Lymphatic'\n",
    "kaminski_2020.obs['annotation'] = kaminski_2020.obs['annotation'].cat.remove_unused_categories()"
   ]
  },
  {
   "cell_type": "code",
   "execution_count": null,
   "metadata": {},
   "outputs": [],
   "source": [
    "sc.pl.umap(kaminski_2020, color='annotation')"
   ]
  },
  {
   "cell_type": "code",
   "execution_count": null,
   "metadata": {},
   "outputs": [],
   "source": [
    "sheppard_2020.obs.transf_ann_level_4_label.value_counts()"
   ]
  },
  {
   "cell_type": "code",
   "execution_count": null,
   "metadata": {},
   "outputs": [],
   "source": [
    "kaminski_2020.obs.transf_ann_level_4_label.value_counts()"
   ]
  },
  {
   "cell_type": "code",
   "execution_count": null,
   "metadata": {},
   "outputs": [],
   "source": [
    "misharin_2021 = sc.read_h5ad('C:/Users/shirazs/Downloads/GSE158127_04all-lineages.h5ad/GSE158127_04all-lineages.h5ad')"
   ]
  },
  {
   "cell_type": "code",
   "execution_count": null,
   "metadata": {},
   "outputs": [],
   "source": [
    "misharin_2021 = misharin_2021[misharin_2021.obs['Study'].isin(['Bharat_et_al_2020'])]\n",
    "misharin_2021 = misharin_2021[misharin_2021.obs['Cell Population'].isin(['Endothelial', 'Endothelial-TX'])]\n",
    "misharin_2021 = misharin_2021[~misharin_2021.obs['Cell Type'].isin(['Macrophages'])]"
   ]
  },
  {
   "cell_type": "code",
   "execution_count": null,
   "metadata": {},
   "outputs": [],
   "source": [
    "sc.pp.highly_variable_genes(misharin_2021, min_mean=0.05, max_mean=3, min_disp=0.5)\n",
    "sc.pl.highly_variable_genes(misharin_2021)\n",
    "sc.tl.pca(misharin_2021, svd_solver='arpack')\n",
    "sc.external.pp.harmony_integrate(misharin_2021, 'Sample Name')\n",
    "sc.pp.neighbors(misharin_2021, n_neighbors=30, use_rep='X_pca_harmony', n_pcs=15)\n",
    "sc.tl.umap(misharin_2021)\n",
    "sc.tl.leiden(misharin_2021)"
   ]
  },
  {
   "cell_type": "code",
   "execution_count": null,
   "metadata": {},
   "outputs": [],
   "source": [
    "misharin_2021"
   ]
  },
  {
   "cell_type": "code",
   "execution_count": null,
   "metadata": {},
   "outputs": [],
   "source": [
    "sc.pl.umap(misharin_2021, color=['leiden', 'Cell Type'], use_raw=False)"
   ]
  },
  {
   "cell_type": "code",
   "execution_count": null,
   "metadata": {},
   "outputs": [],
   "source": [
    "markersmain = {'Epi' : 'EPCAM', 'Immune' : 'PTPRC', 'Endo' : 'PECAM1', 'Mesen' : 'COL1A1'}\n",
    "\n",
    "marker_endo = {\n",
    "    'Endothelial': ['PECAM1', 'VWF'],\n",
    "    'Lymphatic Endo': ['CCL21', 'PROX1', 'MMRN1'],\n",
    "    'aCap': ['CA4', 'EDNRB', 'APLN'],\n",
    "    'gCap': ['FCN3', 'IL7R', 'CD36', 'APLNR'],\n",
    "    #'aCap/gCap' : ['HGPD', 'CA4', 'RGCC', 'FCN3', 'IL7R', 'CD36'],\n",
    "    'Arterial': ['HEY1', 'GJA5', 'DKK2'],\n",
    "    'Systemic' : ['ACKR1', 'COL15A1', 'EBF1', 'PLVAP', 'SPRY1'],\n",
    "    'Pulmonary' : ['ACKR1', 'CPE', 'C7', 'MMRN1', 'HDAC9'],\n",
    "    'Proliferating' : ['MKI67', 'TOP2A', 'CDC20'],\n",
    "    'Extra' : ['LCN2', 'CDKN1A', 'ANKRD1']\n",
    "}\n",
    "\n",
    "endo_types = [*marker_endo]\n",
    "marker_genes = {**marker_endo}\n",
    "marker_genes_in_data = dict()\n",
    "marker_genes_not_in_data = dict()\n",
    "for ct, markers in marker_genes.items():\n",
    "    markers_found = list()\n",
    "    markers_notfound = list()\n",
    "    for marker in markers:\n",
    "        if marker in misharin_2021.var.index:\n",
    "            markers_found.append(marker)\n",
    "        else:\n",
    "            markers_notfound.append(marker)\n",
    "    marker_genes_in_data[ct] = markers_found\n",
    "    marker_genes_not_in_data[ct] = markers_notfound\n",
    "\n",
    "marker_genes_not_in_data\n",
    "\n",
    "\n",
    "endo_type_markers = {\n",
    "    ct: [m for m in ct_markers if m in misharin_2021.var.index]\n",
    "    for ct, ct_markers in marker_genes.items()\n",
    "    if ct in endo_types\n",
    "}"
   ]
  },
  {
   "cell_type": "code",
   "execution_count": null,
   "metadata": {},
   "outputs": [],
   "source": [
    "sc.pl.dotplot(misharin_2021, endo_type_markers, groupby='Cell Type', standard_scale=\"var\")\n",
    "sc.pl.dotplot(misharin_2021, endo_type_markers, groupby='leiden', standard_scale=\"var\")"
   ]
  },
  {
   "cell_type": "code",
   "execution_count": null,
   "metadata": {},
   "outputs": [],
   "source": [
    "mish_annotation = {'0' : 'gCap', \n",
    "                   '1' : 'Lymphatic', \n",
    "                   '2' : 'Systemic Venous', \n",
    "                   '3' : 'Pulmonary Venous', \n",
    "                   '4' : 'Arterial', \n",
    "                   '5' : 'gCap', \n",
    "                   '6' : 'Pulmonary Venous', \n",
    "                   '7' : 'Systemic Venous', \n",
    "                   '8' : 'Pulmonary Venous', \n",
    "                   '9' : 'aCap', \n",
    "                   '10' : 'Lymphatic', \n",
    "                   '11' : 'Arterial', \n",
    "                   '12' : 'gCap'\n",
    "                   }\n",
    "\n",
    "misharin_2021.obs['annotation'] = misharin_2021.obs.leiden.map(mish_annotation)"
   ]
  },
  {
   "cell_type": "code",
   "execution_count": null,
   "metadata": {},
   "outputs": [],
   "source": [
    "sc.pl.umap(misharin_2021, color = 'annotation')"
   ]
  },
  {
   "cell_type": "code",
   "execution_count": null,
   "metadata": {},
   "outputs": [],
   "source": [
    "sc.tl.score_genes(misharin_2021, similarity_scoring + ['CTGF'], use_raw=False, score_name='similarity_scoring')"
   ]
  },
  {
   "cell_type": "code",
   "execution_count": null,
   "metadata": {},
   "outputs": [],
   "source": [
    "sc.pl.umap(lafyatis_2019, color=['similarity_scoring', 'annotation'], title=['similarity_scoring', 'lafyatis_2019'])\n",
    "sc.pl.violin(lafyatis_2019, 'similarity_scoring', 'annotation', rotation=90)\n",
    "sc.pl.umap(misharin_2021, color=['similarity_scoring', 'annotation'], title=['similarity_scoring', 'misharin_2021'])\n",
    "sc.pl.violin(misharin_2021, 'similarity_scoring', 'annotation', rotation=90)\n",
    "sc.pl.umap(misharin_budinger_2018, color=['similarity_scoring', 'annotation'], title=['similarity_scoring', 'misharin_budinger_2018'])\n",
    "sc.pl.violin(misharin_budinger_2018, 'similarity_scoring', 'annotation', rotation=90)\n",
    "sc.pl.umap(regev_2021, color=['similarity_scoring', 'annotation'], title=['similarity_scoring', 'regev_2021'])\n",
    "sc.pl.violin(regev_2021, 'similarity_scoring', 'annotation', rotation=90)\n",
    "sc.pl.umap(sheppard_2020, color=['similarity_scoring', 'annotation'], title=['similarity_scoring', 'sheppard_2020'])\n",
    "sc.pl.violin(sheppard_2020, 'similarity_scoring', 'annotation', rotation=90)\n",
    "sc.pl.umap(kaminski_2020, color=['similarity_scoring', 'annotation'], title=['similarity_scoring', 'kaminski_2020'])\n",
    "sc.pl.violin(kaminski_2020, 'similarity_scoring', 'annotation', rotation=90)\n",
    "sc.pl.umap(nli, color=['similarity_scoring', 'annotation'], title=['similarity_scoring', 'nli'])\n",
    "sc.pl.violin(nli, 'similarity_scoring', 'annotation', rotation=90)"
   ]
  },
  {
   "cell_type": "code",
   "execution_count": null,
   "metadata": {},
   "outputs": [],
   "source": [
    "new_list = [nli, lafyatis_2019, misharin_2021, misharin_budinger_2018, regev_2021, sheppard_2020, kaminski_2020]\n"
   ]
  },
  {
   "cell_type": "code",
   "execution_count": null,
   "metadata": {},
   "outputs": [],
   "source": [
    "misharin_2021"
   ]
  },
  {
   "cell_type": "code",
   "execution_count": null,
   "metadata": {},
   "outputs": [],
   "source": [
    "misharin_2021.obs['disease'] = misharin_2021.obs['Diagnosis']"
   ]
  },
  {
   "cell_type": "code",
   "execution_count": null,
   "metadata": {},
   "outputs": [],
   "source": [
    "for dataset in new_list[1:] :\n",
    "    sc.pl.umap(dataset, color=['annotation', 'disease'])"
   ]
  },
  {
   "cell_type": "code",
   "execution_count": null,
   "metadata": {},
   "outputs": [],
   "source": [
    "lafyatis_2019.obs.annotation.value_counts()"
   ]
  },
  {
   "cell_type": "code",
   "execution_count": null,
   "metadata": {},
   "outputs": [],
   "source": [
    "nli[nli.obs.similarity_scoring >= np.mean(list(nli.obs.similarity_scoring)) + 2 * np.std(list(nli.obs.similarity_scoring))].obs.annotation.value_counts()"
   ]
  },
  {
   "cell_type": "code",
   "execution_count": null,
   "metadata": {},
   "outputs": [],
   "source": [
    "df_setup = {'Celltype' : ['abCap', 'aCap', 'gCap', 'Arterial', 'Systemic Venous', 'Pulmonary Venous', 'Lymphatic'],\n",
    "            'NLI_24' : [],\n",
    "            'Lafyatis_19' : [],\n",
    "            'Misharin_21' : [],\n",
    "            'Mish_Bud_18' : [],\n",
    "            'Regev_21' : [],\n",
    "            'Sheppard_20' : [],\n",
    "            'Kaminski_20' : []}"
   ]
  },
  {
   "cell_type": "code",
   "execution_count": null,
   "metadata": {},
   "outputs": [],
   "source": [
    "df_setup['Celltype']"
   ]
  },
  {
   "cell_type": "code",
   "execution_count": null,
   "metadata": {},
   "outputs": [],
   "source": [
    "label_setup = {'NLI_24' : nli,\n",
    "            'Lafyatis_19' : lafyatis_2019,\n",
    "            'Misharin_21' : misharin_2021,\n",
    "            'Mish_Bud_18' : misharin_budinger_2018,\n",
    "            'Regev_21' : regev_2021,\n",
    "            'Sheppard_20' : sheppard_2020,\n",
    "            'Kaminski_20' : kaminski_2020}"
   ]
  },
  {
   "cell_type": "code",
   "execution_count": null,
   "metadata": {},
   "outputs": [],
   "source": [
    "for x in label_setup:\n",
    "    print(x)"
   ]
  },
  {
   "cell_type": "code",
   "execution_count": null,
   "metadata": {},
   "outputs": [],
   "source": [
    "lafyatis_2019[lafyatis_2019.obs.similarity_scoring >= np.mean(list(lafyatis_2019.obs.similarity_scoring)) + 2 * np.std(list(lafyatis_2019.obs.similarity_scoring))].obs.annotation.value_counts().index"
   ]
  },
  {
   "cell_type": "code",
   "execution_count": null,
   "metadata": {},
   "outputs": [],
   "source": [
    "lafyatis_2019.obs.annotation.value_counts().index"
   ]
  },
  {
   "cell_type": "code",
   "execution_count": null,
   "metadata": {},
   "outputs": [],
   "source": [
    "for data in label_setup :\n",
    "    for label in df_setup['Celltype'] :\n",
    "        if label in label_setup[data][label_setup[data].obs.similarity_scoring >= np.mean(list(label_setup[data].obs.similarity_scoring)) + 2 * np.std(list(label_setup[data].obs.similarity_scoring))].obs.annotation.value_counts().index :\n",
    "            df_setup[data].append((label_setup[data][label_setup[data].obs.similarity_scoring >= np.mean(list(label_setup[data].obs.similarity_scoring)) + \n",
    "                                                    2 * np.std(list(label_setup[data].obs.similarity_scoring))].obs.annotation.value_counts()[label]) / \n",
    "                                                    label_setup[data].obs.annotation.value_counts()[label])\n",
    "        else :\n",
    "            df_setup[data].append(0)\n",
    "            \n"
   ]
  },
  {
   "cell_type": "code",
   "execution_count": null,
   "metadata": {},
   "outputs": [],
   "source": [
    "df_setup"
   ]
  },
  {
   "cell_type": "code",
   "execution_count": null,
   "metadata": {},
   "outputs": [],
   "source": [
    "df_similarity = pd.DataFrame(df_setup).set_index('Celltype')"
   ]
  },
  {
   "cell_type": "code",
   "execution_count": null,
   "metadata": {},
   "outputs": [],
   "source": [
    "print(df_similarity)"
   ]
  },
  {
   "cell_type": "code",
   "execution_count": null,
   "metadata": {},
   "outputs": [],
   "source": [
    "sns.heatmap(df_similarity, cmap='Blues')"
   ]
  },
  {
   "cell_type": "code",
   "execution_count": null,
   "metadata": {},
   "outputs": [],
   "source": [
    "ax = sns.heatmap(df_similarity, cmap='Blues')\n",
    "import matplotlib.pyplot as plt\n",
    "plt.savefig(\"../data/figures/all/similarity_heatmap.pdf\", format = \"pdf\")"
   ]
  }
 ],
 "metadata": {
  "kernelspec": {
   "display_name": "scanpy",
   "language": "python",
   "name": "python3"
  },
  "language_info": {
   "codemirror_mode": {
    "name": "ipython",
    "version": 3
   },
   "file_extension": ".py",
   "mimetype": "text/x-python",
   "name": "python",
   "nbconvert_exporter": "python",
   "pygments_lexer": "ipython3",
   "version": "3.10.0"
  }
 },
 "nbformat": 4,
 "nbformat_minor": 2
}
